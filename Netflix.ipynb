{
  "nbformat": 4,
  "nbformat_minor": 0,
  "metadata": {
    "colab": {
      "provenance": [],
      "collapsed_sections": [
        "vncDsAP0Gaoa",
        "FJNUwmbgGyua",
        "w6K7xa23Elo4",
        "PH-0ReGfmX4f",
        "mDgbUHAGgjLW",
        "3RnN4peoiCZX",
        "x71ZqKXriCWQ",
        "7hBIi_osiCS2",
        "JlHwYmJAmNHm",
        "35m5QtbWiB9F",
        "PoPl-ycgm1ru",
        "H0kj-8xxnORC",
        "nA9Y7ga8ng1Z",
        "PBTbrJXOngz2",
        "u3PMJOP6ngxN",
        "dauF4eBmngu3",
        "bKJF3rekwFvQ",
        "MSa1f5Uengrz",
        "K5QZ13OEpz2H",
        "lQ7QKXXCp7Bj",
        "448CDAPjqfQr",
        "t6dVpIINYklI",
        "ijmpgYnKYklI",
        "-JiQyfWJYklI",
        "JcMwzZxoAimU",
        "8G2x9gOozGDZ",
        "gCX9965dhzqZ",
        "gIfDvo9L0UH2"
      ],
      "include_colab_link": true
    },
    "kernelspec": {
      "name": "python3",
      "display_name": "Python 3"
    },
    "language_info": {
      "name": "python"
    }
  },
  "cells": [
    {
      "cell_type": "markdown",
      "metadata": {
        "id": "view-in-github",
        "colab_type": "text"
      },
      "source": [
        "<a href=\"https://colab.research.google.com/github/manisha-1112/Netflix-EDA-Analysis/blob/main/Netflix.ipynb\" target=\"_parent\"><img src=\"https://colab.research.google.com/assets/colab-badge.svg\" alt=\"Open In Colab\"/></a>"
      ]
    },
    {
      "cell_type": "markdown",
      "source": [
        "# **Project Name**    - **EDA Analysis on NETFLIX**\n",
        "\n"
      ],
      "metadata": {
        "id": "vncDsAP0Gaoa"
      }
    },
    {
      "cell_type": "markdown",
      "source": [
        "##### **Project Type**    - EDA\n",
        "##### **Contribution**    - Individual\n",
        "##### **Name** - Manisha Kaushal\n"
      ],
      "metadata": {
        "id": "beRrZCGUAJYm"
      }
    },
    {
      "cell_type": "markdown",
      "source": [
        "# **Project Summary -**"
      ],
      "metadata": {
        "id": "FJNUwmbgGyua"
      }
    },
    {
      "cell_type": "markdown",
      "source": [
        "\n",
        "\n",
        "This project looks at Netflix’s catalog from 2019 to figure out what kind of shows and movies are on the platform, which countries have access to what content, and how that content is spread out. It also groups similar shows together based on their descriptions and genres to help improve recommendations and business decisions.\n",
        "\n",
        "Over time, Netflix has shifted gears — it’s been producing and adding way more TV shows compared to movies. We wanted to see how this trend has grown, what types of content are most common, and how things differ from country to country. The data we used includes around 7,800 Netflix titles, with details like type (movie/show), genre, country, release year, duration, and descriptions.\n",
        "\n",
        "We started by cleaning up the data and checking for missing information. We found that a lot of titles don’t list a director, cast, or country. This missing info matters because it can affect things like content discovery and recommendations.\n",
        "\n",
        "Then, we explored the data using different types of charts. We found that:\n",
        "\n",
        "* “TV-MA” is the most common rating (meaning mature audiences).\n",
        "* The U.S. makes the most content.\n",
        "* Most content was added after 2015 — showing Netflix’s big recent push to grow its library.\n",
        "\n",
        "When we looked at things like genre over time or how long movies/shows are by rating, we got a better idea of how content trends are changing. We also saw that some regions — like Africa, Eastern Europe, and parts of Asia — don’t have nearly as much content available compared to places like the U.S. That shows there’s a chance for Netflix to grow in these areas by adding more local content.\n",
        "\n",
        "One of the cooler parts of this project was using text analysis (NLP) to group similar shows and movies based on their descriptions and genres. We used TF-IDF to turn text into numbers and then KMeans to group titles. This helps with better recommendations and smarter content tagging.\n",
        "\n",
        "### Main Takeaways:\n",
        "\n",
        "* We now understand which types of content are most common on Netflix.\n",
        "* We found which countries are overloaded and which are underserved.\n",
        "* Trends show a big shift toward more TV shows and more content in recent years.\n",
        "* Grouping similar content can help Netflix give users better recommendations.\n",
        "* All this data can help Netflix decide what to make, where to expand, and how to personalize the platform better.\n",
        "\n",
        "\n"
      ],
      "metadata": {
        "id": "F6v_1wHtG2nS"
      }
    },
    {
      "cell_type": "markdown",
      "source": [
        "Provide your GitHub Link here."
      ],
      "metadata": {
        "id": "h1o69JH3Eqqn"
      }
    },
    {
      "cell_type": "markdown",
      "source": [
        "# **Problem Statement**\n",
        "\n",
        "\n",
        "\n",
        "\n",
        "\n"
      ],
      "metadata": {
        "id": "cWJOmkcOjizY"
      }
    },
    {
      "cell_type": "markdown",
      "source": [
        "**Write Problem Statement Here.**\n",
        "\n",
        "The goal of this project is to explore the Netflix dataset in depth to uncover meaningful insights about how content is distributed across different genres, what types of ratings are most common, which countries are producing the most content, and when most of the content has been released. By analyzing these patterns and trends, the aim is to help guide smarter decisions in content creation, regional marketing strategies, and future planning for what kinds of shows and movies to promote or invest in."
      ],
      "metadata": {
        "id": "DpeJGUA3kjGy"
      }
    },
    {
      "cell_type": "markdown",
      "source": [
        "#### **Define Your Business Objective?**\n"
      ],
      "metadata": {
        "id": "PH-0ReGfmX4f"
      }
    },
    {
      "cell_type": "markdown",
      "source": [
        "\n",
        "\n",
        "Business Objective\n",
        "\n",
        "* **Descriptive Analysis** – Identify common patterns in genre, rating, and release year.\n",
        "* **Regional Insights** – Analyze how content varies across different countries.\n",
        "* **Trend Analysis** – Study the shift from movies to TV shows over time.\n",
        "* **Audience Insights** – Understand popular content types to guide acquisition.\n",
        "* **Content Clustering** – Group similar titles using text data to improve recommendations.\n"
      ],
      "metadata": {
        "id": "PhDvGCAqmjP1"
      }
    },
    {
      "cell_type": "markdown",
      "source": [
        "# **General Guidelines** : -  "
      ],
      "metadata": {
        "id": "mDgbUHAGgjLW"
      }
    },
    {
      "cell_type": "markdown",
      "source": [
        "1.   Well-structured, formatted, and commented code is required.\n",
        "2.   Exception Handling, Production Grade Code & Deployment Ready Code will be a plus. Those students will be awarded some additional credits.\n",
        "     \n",
        "     The additional credits will have advantages over other students during Star Student selection.\n",
        "       \n",
        "             [ Note: - Deployment Ready Code is defined as, the whole .ipynb notebook should be executable in one go\n",
        "                       without a single error logged. ]\n",
        "\n",
        "3.   Each and every logic should have proper comments.\n",
        "4. You may add as many number of charts you want. Make Sure for each and every chart the following format should be answered.\n",
        "        \n",
        "\n",
        "```\n",
        "# Chart visualization code\n",
        "```\n",
        "            \n",
        "\n",
        "*   Why did you pick the specific chart?\n",
        "*   What is/are the insight(s) found from the chart?\n",
        "* Will the gained insights help creating a positive business impact?\n",
        "Are there any insights that lead to negative growth? Justify with specific reason.\n",
        "\n",
        "5. You have to create at least 20 logical & meaningful charts having important insights.\n",
        "\n",
        "\n",
        "[ Hints : - Do the Vizualization in  a structured way while following \"UBM\" Rule.\n",
        "\n",
        "U - Univariate Analysis,\n",
        "\n",
        "B - Bivariate Analysis (Numerical - Categorical, Numerical - Numerical, Categorical - Categorical)\n",
        "\n",
        "M - Multivariate Analysis\n",
        " ]\n",
        "\n",
        "\n",
        "\n"
      ],
      "metadata": {
        "id": "ZrxVaUj-hHfC"
      }
    },
    {
      "cell_type": "markdown",
      "source": [
        "# ***Let's Begin !***"
      ],
      "metadata": {
        "id": "O_i_v8NEhb9l"
      }
    },
    {
      "cell_type": "markdown",
      "source": [
        "## ***1. Know Your Data***"
      ],
      "metadata": {
        "id": "HhfV-JJviCcP"
      }
    },
    {
      "cell_type": "markdown",
      "source": [
        "### Import Libraries"
      ],
      "metadata": {
        "id": "Y3lxredqlCYt"
      }
    },
    {
      "cell_type": "code",
      "source": [
        "# Import standard libraries\n",
        "import pandas as pd\n",
        "import numpy as np\n",
        "import matplotlib.pyplot as plt\n",
        "import seaborn as sns\n",
        "\n",
        "# For text clustering later\n",
        "from sklearn.feature_extraction.text import TfidfVectorizer\n",
        "from sklearn.cluster import KMeans"
      ],
      "metadata": {
        "id": "M8Vqi-pPk-HR"
      },
      "execution_count": null,
      "outputs": []
    },
    {
      "cell_type": "markdown",
      "source": [
        "### Dataset Loading"
      ],
      "metadata": {
        "id": "3RnN4peoiCZX"
      }
    },
    {
      "cell_type": "code",
      "source": [
        "# Load Dataset\n",
        "df = pd.read_csv('/content/NETFLIX MOVIES AND TV SHOWS CLUSTERING.csv')"
      ],
      "metadata": {
        "id": "4CkvbW_SlZ_R"
      },
      "execution_count": null,
      "outputs": []
    },
    {
      "cell_type": "markdown",
      "source": [
        "### Dataset First View"
      ],
      "metadata": {
        "id": "x71ZqKXriCWQ"
      }
    },
    {
      "cell_type": "code",
      "source": [
        "# Dataset First Look\n",
        "df.head()"
      ],
      "metadata": {
        "id": "LWNFOSvLl09H"
      },
      "execution_count": null,
      "outputs": []
    },
    {
      "cell_type": "markdown",
      "source": [
        "### Dataset Rows & Columns count"
      ],
      "metadata": {
        "id": "7hBIi_osiCS2"
      }
    },
    {
      "cell_type": "code",
      "source": [
        "# Dataset Rows & Columns count\n",
        "print(df.shape)"
      ],
      "metadata": {
        "id": "Kllu7SJgmLij"
      },
      "execution_count": null,
      "outputs": []
    },
    {
      "cell_type": "markdown",
      "source": [
        "### Dataset Information"
      ],
      "metadata": {
        "id": "JlHwYmJAmNHm"
      }
    },
    {
      "cell_type": "code",
      "source": [
        "# Dataset Info\n",
        "print(df.info())"
      ],
      "metadata": {
        "id": "e9hRXRi6meOf"
      },
      "execution_count": null,
      "outputs": []
    },
    {
      "cell_type": "markdown",
      "source": [
        "#### Duplicate Values"
      ],
      "metadata": {
        "id": "35m5QtbWiB9F"
      }
    },
    {
      "cell_type": "code",
      "source": [
        "# Dataset Duplicate Value Count\n",
        "duplicate_count = df.duplicated().sum()\n",
        "print(duplicate_count)"
      ],
      "metadata": {
        "id": "1sLdpKYkmox0"
      },
      "execution_count": null,
      "outputs": []
    },
    {
      "cell_type": "markdown",
      "source": [
        "#### Missing Values/Null Values"
      ],
      "metadata": {
        "id": "PoPl-ycgm1ru"
      }
    },
    {
      "cell_type": "code",
      "source": [
        "# Missing Values/Null Values Count\n",
        "missing_values = df.isnull().sum()\n",
        "print(missing_values)"
      ],
      "metadata": {
        "id": "GgHWkxvamxVg"
      },
      "execution_count": null,
      "outputs": []
    },
    {
      "cell_type": "code",
      "source": [
        "# Visualizing the missing values\n",
        "# Calculating the number of missing values per column\n",
        "missing_values = df.isnull().sum()\n",
        "\n",
        "# Plotting the missing values\n",
        "fig, ax = plt.subplots(figsize=(16, 6))\n",
        "bars = ax.bar(missing_values.index, missing_values.values, color='green')\n",
        "\n",
        "# Adding data labels on top of the bars\n",
        "for bar in bars:\n",
        "    yval = bar.get_height()\n",
        "    ax.text(bar.get_x() + bar.get_width()/2, yval, f'{yval}',\n",
        "            ha='center', va='bottom', fontsize=9, fontweight='bold', color='black')\n",
        "\n",
        "# Adding labels and title\n",
        "plt.title('Missing Values per Column', fontsize=16, fontweight='bold')\n",
        "plt.xlabel('Columns', fontsize=12)\n",
        "plt.ylabel('Number of Missing Values', fontsize=12)\n",
        "plt.xticks(rotation=45)\n",
        "\n",
        "# Display the plot\n",
        "plt.show()"
      ],
      "metadata": {
        "id": "3q5wnI3om9sJ"
      },
      "execution_count": null,
      "outputs": []
    },
    {
      "cell_type": "markdown",
      "source": [
        "### What did you know about your dataset?"
      ],
      "metadata": {
        "id": "H0kj-8xxnORC"
      }
    },
    {
      "cell_type": "markdown",
      "source": [
        "There are 7787 rows and 12 columns in the given dataset. Out of which 5 Columns have missing Values. Column director have most missing values of 2389, then cast with 718 missing values, then country with 507 missing values, then date_added with 10 missing values and ratings with least missing values of 7."
      ],
      "metadata": {
        "id": "gfoNAAC-nUe_"
      }
    },
    {
      "cell_type": "markdown",
      "source": [
        "## ***2. Understanding Your Variables***"
      ],
      "metadata": {
        "id": "nA9Y7ga8ng1Z"
      }
    },
    {
      "cell_type": "code",
      "source": [
        "# Dataset Columns\n",
        "df.columns"
      ],
      "metadata": {
        "id": "j7xfkqrt5Ag5"
      },
      "execution_count": null,
      "outputs": []
    },
    {
      "cell_type": "code",
      "source": [
        "# Dataset Describe\n",
        "df.describe()"
      ],
      "metadata": {
        "id": "DnOaZdaE5Q5t"
      },
      "execution_count": null,
      "outputs": []
    },
    {
      "cell_type": "markdown",
      "source": [
        "### Variables Description\n"
      ],
      "metadata": {
        "id": "PBTbrJXOngz2"
      }
    },
    {
      "cell_type": "markdown",
      "source": [
        "  \n",
        "\n",
        "1. **show_id** – A unique identifier assigned to each title (movie or TV show).  \n",
        "2. **type** – Indicates whether the content is a **Movie** or a **TV Show**.  \n",
        "3. **title** – The name of the movie or TV show.  \n",
        "4. **director** – The names of the directors. Multiple directors may be listed, separated by commas.  \n",
        "5. **cast** – The main actors or actresses featured in the title. Multiple names may be listed, separated by commas.  \n",
        "6. **country** – The country (or countries) where the title was produced. Multiple countries may be listed, separated by commas.  \n",
        "7. **date_added** – The date when the title was added to Netflix (in Month Day, Year format).  \n",
        "8. **release_year** – The year when the movie or TV show was originally released.  \n",
        "9. **rating** – The content rating (e.g., *PG-13, TV-MA, R*) indicating the intended audience.  \n",
        "10. **duration** –  Length of the movie (in minutes) or number of seasons for a TV show.\n",
        "11. **listed_in** – The genre(s) or category. Multiple genres may be listed, separated by commas.  \n",
        "12. **description** – A brief summary of the plot or theme of the title.  "
      ],
      "metadata": {
        "id": "aJV4KIxSnxay"
      }
    },
    {
      "cell_type": "markdown",
      "source": [
        "### Check Unique Values for each variable."
      ],
      "metadata": {
        "id": "u3PMJOP6ngxN"
      }
    },
    {
      "cell_type": "code",
      "source": [
        "# Check Unique Values for each variable.\n",
        "for column in df.columns:\n",
        "    print(f\"{column}: {df[column].nunique()} unique values\")"
      ],
      "metadata": {
        "id": "zms12Yq5n-jE"
      },
      "execution_count": null,
      "outputs": []
    },
    {
      "cell_type": "markdown",
      "source": [
        "## 3. ***Data Wrangling***"
      ],
      "metadata": {
        "id": "dauF4eBmngu3"
      }
    },
    {
      "cell_type": "markdown",
      "source": [
        "### Data Wrangling Code"
      ],
      "metadata": {
        "id": "bKJF3rekwFvQ"
      }
    },
    {
      "cell_type": "code",
      "source": [
        "# Import necessary libraries\n",
        "from itertools import chain\n",
        "from collections import Counter\n",
        "\n",
        "# 1. Create a copy of the dataset (assumes df is already loaded)\n",
        "df = df.copy()\n",
        "\n",
        "# 2. Fill missing values using assignment instead of inplace (to avoid FutureWarning)\n",
        "df['director'] = df['director'].fillna(\"Not Available\")\n",
        "df['cast'] = df['cast'].fillna(\"Not Available\")\n",
        "df['country'] = df['country'].fillna(\"Not Available\")\n",
        "df['date_added'] = df['date_added'].fillna(\"Not Available\")\n",
        "df['rating'] = df['rating'].fillna(\"Not Rated\")\n",
        "\n",
        "# 3. Convert 'date_added' column to datetime\n",
        "df['date_added'] = pd.to_datetime(df['date_added'], errors='coerce')\n",
        "\n",
        "# 4. Extract year and month from 'date_added'\n",
        "df['year_added'] = df['date_added'].dt.year\n",
        "df['month_added'] = df['date_added'].dt.month_name()\n",
        "\n",
        "# 5. Convert year into integer type\n",
        "df['year_added'] = df['year_added'].astype('Int64')  # Use Int64 to allow NaNs\n",
        "\n",
        "# 6. Drop irrelevant columns safely\n",
        "if 'show_id' in df.columns:\n",
        "    df.drop(columns=['show_id'], inplace=True)\n",
        "\n",
        "# 7. Creating genre list\n",
        "# Strip whitespace and ensure consistency\n",
        "df['listed_in'] = df['listed_in'].str.strip()\n",
        "\n",
        "# Create a list of genres in a new column\n",
        "df['genre_list'] = df['listed_in'].str.split(',\\s*')  # Splits by comma and strips spaces\n",
        "\n",
        "# 8. Extract and count all unique genres\n",
        "all_genres = list(chain.from_iterable(df['genre_list']))\n",
        "unique_genres = set(all_genres)\n",
        "print(\"Unique genres:\")\n",
        "print(unique_genres)\n",
        "\n",
        "# 9. Value count for each genre\n",
        "genre_counts = pd.Series(Counter(all_genres)).sort_values(ascending=False)\n",
        "print(\"\\nGenre counts:\")\n",
        "print(genre_counts)\n"
      ],
      "metadata": {
        "id": "wk-9a2fpoLcV"
      },
      "execution_count": null,
      "outputs": []
    },
    {
      "cell_type": "markdown",
      "source": [
        "### What all manipulations have you done and insights you found?\n",
        "\n",
        "\n"
      ],
      "metadata": {
        "id": "MSa1f5Uengrz"
      }
    },
    {
      "cell_type": "markdown",
      "source": [
        "\n",
        "### **Manipulations Done on the Data**\n",
        "\n",
        "1. **Missing Value Handling**:\n",
        "\n",
        "   * Replaced missing values in key columns (director, cast, country, date_added, rating) with meaningful placeholders like \"Not Available\" or \"Not Rated\".\n",
        "\n",
        "2. **Date Parsing**:\n",
        "\n",
        "   * Converted the date_added column to proper datetime format.\n",
        "   * Extracted year_added and month_added from this date for potential time-based analysis.\n",
        "\n",
        "3. **Dropped Irrelevant Column**:\n",
        "\n",
        "   * Dropped the show_id column (only if it existed).\n",
        "\n",
        "4. **Genre Processing**:\n",
        "\n",
        "   * Cleaned up the listed_in column (removed extra spaces).\n",
        "   * Created a new column genre_list by splitting listed_in into individual genres.\n",
        "   * Extracted **all unique genres** across the dataset using set().\n",
        "   * Counted how many times each genre appears using Counter.\n",
        "\n",
        "---\n",
        "\n",
        "###  **Insights from the Genre Data**\n",
        "\n",
        "1. **Top Genres**:\n",
        "\n",
        "   * **International Movies** (2,178) and **Dramas** (2,038) dominate the platform.\n",
        "   * **Comedies** also have high representation with 1,405 entries.\n",
        "\n",
        "2. **Mid-Tier Genres**:\n",
        "\n",
        "   * Action, Romance, Thriller, and Family content are also heavily featured.\n",
        "   * Documentaries (370) and Horror (302) are also quite present.\n",
        "\n",
        "3. **Low-Representation Genres**:\n",
        "\n",
        "   * Genres like Science & Nature TV, Classic & Cult TV, and Reality TV appear **very few times**.\n",
        "   * Niche genres like TV Thrillers, TV Mysteries, and Teen TV Shows also have less content.\n",
        "\n",
        "4. **Platform Focus Insight**:\n",
        "\n",
        "   * Netflix seems to lean heavily toward **international, drama, and comedy** content.\n",
        "   * It also supports **diverse content** like LGBTQ+ movies, anime, and stand-up comedy, though these are less frequent.\n",
        "\n",
        "5. **Movie vs TV Split (from genres)**:\n",
        "\n",
        "   * Many genres are labeled clearly as either **Movies** (e.g., Romantic Movies, Horror Movies) or **TV Shows** (e.g., TV Comedies, TV Dramas).\n",
        "   * From the counts, it appears **movies are more dominant** than series on the platform (at least in genre tagging).\n",
        "\n"
      ],
      "metadata": {
        "id": "LbyXE7I1olp8"
      }
    },
    {
      "cell_type": "markdown",
      "source": [
        "## ***4. Data Vizualization, Storytelling & Experimenting with charts : Understand the relationships between variables***"
      ],
      "metadata": {
        "id": "GF8Ens_Soomf"
      }
    },
    {
      "cell_type": "markdown",
      "source": [
        "#### Chart - 1\n",
        "Distribution of Movies vs TV Shows"
      ],
      "metadata": {
        "id": "0wOQAZs5pc--"
      }
    },
    {
      "cell_type": "code",
      "source": [
        "# Chart - 1 visualization code\n",
        "plt.figure(figsize=(6, 4))\n",
        "sns.countplot(data=df, x='type', color=sns.color_palette('pastel')[0])\n",
        "plt.title('Count of Movies and TV Shows')\n",
        "plt.xlabel('Content Type')\n",
        "plt.ylabel('Count')\n",
        "plt.show()"
      ],
      "metadata": {
        "id": "7v_ESjsspbW7"
      },
      "execution_count": null,
      "outputs": []
    },
    {
      "cell_type": "markdown",
      "source": [
        "##### 1. Why did you pick the specific chart?\n"
      ],
      "metadata": {
        "id": "K5QZ13OEpz2H"
      }
    },
    {
      "cell_type": "markdown",
      "source": [
        "I chose the countplot for this chart because:\n",
        "\n",
        "1. It clearly shows the distribution of categorical data, in this case, the \"type\" (Movie or TV Show).\n",
        "\n",
        "2. It is ideal for comparing the number of occurrences of each category.\n",
        "\n",
        "3. It provides a quick and easy visual understanding of how content is divided, helping identify which type dominates the dataset.\n",
        "\n",
        "This makes it effective for storytelling and establishing a foundational insight into the dataset."
      ],
      "metadata": {
        "id": "XESiWehPqBRc"
      }
    },
    {
      "cell_type": "markdown",
      "source": [
        "##### 2. What is/are the insight(s) found from the chart?\n"
      ],
      "metadata": {
        "id": "lQ7QKXXCp7Bj"
      }
    },
    {
      "cell_type": "markdown",
      "source": [
        "1. Movies dominate the Netflix content in this dataset, with a significantly higher count than TV Shows.\n",
        "\n",
        "2. There are more than 4,000 Movies compared to just a few hundred TV Shows, indicating that Netflix has focused more on providing movie content (at least up to 2019, as per the dataset).\n",
        "\n",
        "3. This imbalance suggests that users might have had more movie-watching options historically, or Netflix prioritized movies in its early content strategy."
      ],
      "metadata": {
        "id": "C_j1G7yiqdRP"
      }
    },
    {
      "cell_type": "markdown",
      "source": [
        "##### 3. Will the gained insights help creating a positive business impact?\n",
        "\n"
      ],
      "metadata": {
        "id": "448CDAPjqfQr"
      }
    },
    {
      "cell_type": "markdown",
      "source": [
        "Yes, the insights will help create a positive business impact by:\n",
        "\n",
        "* Guiding content strategy (e.g., balancing movies and TV shows).\n",
        "* Improving user engagement through targeted content offerings.\n",
        "* Supporting data-driven decisions for content investment and planning.\n",
        "\n",
        "Are there any insights that lead to negative growth? Justify with specific reason.\n",
        "Yes, one possible insight that may lead to negative growth is:\n",
        "\n",
        "**Over-reliance on Movies**:\n",
        "If the dataset shows a heavy dominance of movies over TV shows, it may indicate a lack of content diversity. This could lead to\n",
        "**user dissatisfaction**—especially among viewers who prefer long-form content like TV series.\n",
        "\n",
        "**Justification**:\n",
        "In recent years, binge-watching TV shows has become a major driver of user engagement. A limited number of TV shows may push users toward competitors that offer more series-based content, potentially resulting in **loss of subscriptions** and **reduced platform stickiness**."
      ],
      "metadata": {
        "id": "3cspy4FjqxJW"
      }
    },
    {
      "cell_type": "markdown",
      "source": [
        "#### Chart - 2\n",
        "Top 10 countries by content type distribution"
      ],
      "metadata": {
        "id": "KSlN3yHqYklG"
      }
    },
    {
      "cell_type": "code",
      "source": [
        "# Split countries by comma and explode to separate rows for each country\n",
        "df['country'] = df['country'].str.split(', ')\n",
        "df = df.explode('country')\n",
        "\n",
        "# Group by country and content type\n",
        "country_content_count = df.groupby(['country', 'type']).size().reset_index(name='count')\n",
        "\n",
        "# Get top 10 countries by total content\n",
        "top_countries = (\n",
        "    country_content_count.groupby('country')['count'].sum()\n",
        "    .nlargest(10)\n",
        "    .index\n",
        ")\n",
        "\n",
        "# Filter the data to include only top 10 countries\n",
        "filtered_df = country_content_count[country_content_count['country'].isin(top_countries)]\n",
        "\n",
        "# Plotting\n",
        "plt.figure(figsize=(12, 8))\n",
        "sns.barplot(x='count', y='country', hue='type', data=filtered_df, dodge=True)\n",
        "plt.title('Top 10 Countries by Content Type Distribution')\n",
        "plt.xlabel('Count')\n",
        "plt.ylabel('Country')\n",
        "plt.legend(title='Content Type')\n",
        "plt.tight_layout()\n",
        "plt.show()"
      ],
      "metadata": {
        "id": "R4YgtaqtYklH"
      },
      "execution_count": null,
      "outputs": []
    },
    {
      "cell_type": "markdown",
      "source": [
        "##### 1. Why did you pick the specific chart?\n",
        "\n"
      ],
      "metadata": {
        "id": "t6dVpIINYklI"
      }
    },
    {
      "cell_type": "markdown",
      "source": [
        "\n",
        "1. **Categorical data**: We are comparing content types (\"Movie\" vs \"TV Show\") across different countries — both are categorical, which suits bar charts.\n",
        "2. **Clarity**: Horizontal bars help when country names are long or many, making labels easier to read.\n",
        "3. **Comparison**: Grouped bars (one for each content type) make it easy to compare how much of each type exists per country.\n",
        "4. **Crowding fix**: The horizontal layout and limiting to top countries reduce visual clutter.\n"
      ],
      "metadata": {
        "id": "5aaW0BYyYklI"
      }
    },
    {
      "cell_type": "markdown",
      "source": [
        "##### 2. What is/are the insight(s) found from the chart?"
      ],
      "metadata": {
        "id": "ijmpgYnKYklI"
      }
    },
    {
      "cell_type": "markdown",
      "source": [
        "**Insights from the chart:**\n",
        "\n",
        "1. **United States dominates**: The U.S. has by far the highest number of titles, especially movies. It's the leading content producer on the platform.\n",
        "2. **India ranks second**: India also has a significant amount of content, again mostly movies — indicating strong regional production and audience.\n",
        "3. **European countries have moderate content**: Countries like the UK, France, Germany, and Spain have moderate content availability — again, movies dominate.\n"
      ],
      "metadata": {
        "id": "PSx9atu2YklI"
      }
    },
    {
      "cell_type": "markdown",
      "source": [
        "##### 3. Will the gained insights help creating a positive business impact?\n",
        "Yes, these insights can create positive business impact by:\n",
        "\n",
        "1. **Content Strategy** - Focusing on movies (especially in the U.S. and India) aligns with Netflix's dominant content type and regional strengths.  \n",
        "2. **Market Expansion** - Investing in underrepresented TV shows in key markets (e.g., Europe) could diversify offerings and attract new subscribers.  \n",
        "3. **Localized Production** - Prioritizing movie production in high-demand regions (India, U.S.) while testing TV show growth in others optimizes resource allocation.  \n",
        "\n",
        "\n",
        "\n",
        "Are there any insights that lead to negative growth? Justify with specific reason."
      ],
      "metadata": {
        "id": "-JiQyfWJYklI"
      }
    },
    {
      "cell_type": "markdown",
      "source": [
        "If Netflix doesn’t offer enough content from different regions, it might struggle to attract users in those areas. People often prefer shows and movies in their own language or culture. So, a lack of regional variety could make it harder for Netflix to grow in underrepresented countries or markets."
      ],
      "metadata": {
        "id": "BcBbebzrYklV"
      }
    },
    {
      "cell_type": "markdown",
      "source": [
        "#### Chart - 3\n",
        "Top 10 directors"
      ],
      "metadata": {
        "id": "ddD2JqzyC_Jy"
      }
    },
    {
      "cell_type": "code",
      "source": [
        "director_counts = df['director'].dropna().str.split(', ').explode().value_counts().head(10)\n",
        "\n",
        "plt.figure(figsize=(10, 5))\n",
        "sns.barplot(x=director_counts.index, y=director_counts.values, palette=\"pastel\")\n",
        "plt.title(\"Top 10 Directors on Netflix\")\n",
        "plt.ylabel(\"Titles Directed\")\n",
        "plt.xticks(rotation=45)\n",
        "plt.tight_layout()\n",
        "plt.show()"
      ],
      "metadata": {
        "id": "YFytTAq_DEm2"
      },
      "execution_count": null,
      "outputs": []
    },
    {
      "cell_type": "markdown",
      "source": [
        "##### 1. Why did you pick the specific chart?"
      ],
      "metadata": {
        "id": "8R1NSffCDPsz"
      }
    },
    {
      "cell_type": "markdown",
      "source": [
        "The chosen bar graph identifies the most active and possibly famous directors associated with Netflix."
      ],
      "metadata": {
        "id": "h8y_UdEYDrgm"
      }
    },
    {
      "cell_type": "markdown",
      "source": [
        "##### 2. What is/are the insight(s) found from the chart?"
      ],
      "metadata": {
        "id": "CCZXyCTuD6_x"
      }
    },
    {
      "cell_type": "markdown",
      "source": [
        "Top directors who repeatedly appear, indicates trust and investment by Netflix in specific creations."
      ],
      "metadata": {
        "id": "Iaqwa30YD9pF"
      }
    },
    {
      "cell_type": "markdown",
      "source": [
        "##### 3. Will the gained insights help creating a positive business impact?\n",
        "Are there any insights that lead to negative growth? Justify with specific reason."
      ],
      "metadata": {
        "id": "tmUStLa_EApp"
      }
    },
    {
      "cell_type": "markdown",
      "source": [
        " Yes, this shows Reliable directors helps to scale production quickly. Due to this there is a risk of similar content themes or limited variety in storytelling which can adversely affect the growth.\n",
        "\n"
      ],
      "metadata": {
        "id": "8Q0lGorMED7c"
      }
    },
    {
      "cell_type": "markdown",
      "source": [
        "#### Chart - 4\n",
        "Top 10 Most Frequent Actors"
      ],
      "metadata": {
        "id": "9x_aZO2iFhuS"
      }
    },
    {
      "cell_type": "code",
      "source": [
        "# Top 10 Most Frequent Actors on Netflix\n",
        "actor_list = df['cast'].dropna().str.split(', ').explode()\n",
        "top_actors = actor_list.value_counts().head(10)\n",
        "print(top_actors)\n",
        "\n",
        "plt.figure(figsize=(10, 6))\n",
        "sns.barplot(x=top_actors.index, y=top_actors.values, palette=\"viridis\")\n",
        "plt.title(\"Top 10 Most Frequent Actors on Netflix\")\n",
        "plt.ylabel(\"Appearances\")\n",
        "plt.xticks(rotation=45)\n",
        "plt.tight_layout()\n",
        "plt.show()"
      ],
      "metadata": {
        "id": "lIyBpVBNFgo-"
      },
      "execution_count": null,
      "outputs": []
    },
    {
      "cell_type": "markdown",
      "source": [
        "##### 1. Why did you pick the specific chart?"
      ],
      "metadata": {
        "id": "-BbS-X-ZFxvS"
      }
    },
    {
      "cell_type": "markdown",
      "source": [
        "It clearly highlights which actors appear most on Netflix, making it easy to spot popular or overrepresented figures at a glance.\n"
      ],
      "metadata": {
        "id": "ujpXhghwFybK"
      }
    },
    {
      "cell_type": "markdown",
      "source": [
        "##### 2. What is/are the insight(s) found from the chart?"
      ],
      "metadata": {
        "id": "j1Jvdg5gF0kG"
      }
    },
    {
      "cell_type": "markdown",
      "source": [
        "The biggest insight is that a large portion of Netflix content has missing actor data (\"Not Available\"), while Anupam Kher, David Attenborough, and Shah Rukh Khan are among the most frequent known actors.\n"
      ],
      "metadata": {
        "id": "ATj1OyWTF3ZD"
      }
    },
    {
      "cell_type": "markdown",
      "source": [
        "##### 3. Will the gained insights help creating a positive business impact?\n",
        "Are there any insights that lead to negative growth? Justify with specific reason."
      ],
      "metadata": {
        "id": "AUWki0nNF74j"
      }
    },
    {
      "cell_type": "markdown",
      "source": [
        "Yes, the insights can help create a positive impact by identifying popular actors for targeted content promotion. However, the high count of \"Not Available\" actor data signals poor metadata quality, which can hurt search, recommendations, and user engagement—leading to potential negative growth.\n"
      ],
      "metadata": {
        "id": "JZKBbFphF8t1"
      }
    },
    {
      "cell_type": "markdown",
      "source": [
        "#### Chart - 5\n",
        "Popular Topics on Netflix"
      ],
      "metadata": {
        "id": "gVjGeFYiGCLV"
      }
    },
    {
      "cell_type": "code",
      "source": [
        "# Popular Topics on Netflix (WordCloud based on description text)\n",
        "\n",
        "from wordcloud import WordCloud\n",
        "\n",
        "# 1. Combine all non-null descriptions into a single string\n",
        "text = ' '.join(df['description'].dropna().tolist())\n",
        "\n",
        "# 2. Set up figure size for the plot\n",
        "plt.figure(figsize=(12, 5))\n",
        "\n",
        "# 3. Generate a WordCloud from the combined text\n",
        "wordcloud = WordCloud(\n",
        "    width=800,\n",
        "    height=400,\n",
        "    background_color='white'  # Set background color\n",
        ").generate(text)\n",
        "\n",
        "# 4. Display the WordCloud\n",
        "plt.imshow(wordcloud, interpolation='bilinear')  # Render the wordcloud image\n",
        "plt.axis('off')                                  # Remove axis lines and labels\n",
        "plt.title('Popular Topics on Netflix')           # Add a title\n",
        "plt.show()                                       # Display the plot"
      ],
      "metadata": {
        "id": "g2dRW4nqGIod"
      },
      "execution_count": null,
      "outputs": []
    },
    {
      "cell_type": "markdown",
      "source": [
        "##### 1. Why did you pick the specific chart?"
      ],
      "metadata": {
        "id": "sfOCjRvJLfDL"
      }
    },
    {
      "cell_type": "markdown",
      "source": [
        "The word cloud is great for visualizing the most common keywords/topics in Netflix content at a glance."
      ],
      "metadata": {
        "id": "TDNS0mL7LhZV"
      }
    },
    {
      "cell_type": "markdown",
      "source": [
        "##### 2. What is/are the insight(s) found from the chart?"
      ],
      "metadata": {
        "id": "V7S9zWeELnMU"
      }
    },
    {
      "cell_type": "markdown",
      "source": [
        "Popular themes include life, love, world, family, new, and friend, showing a focus on emotional, personal, and social storytelling."
      ],
      "metadata": {
        "id": "HhvycFKNLp3j"
      }
    },
    {
      "cell_type": "markdown",
      "source": [
        "##### 3. Will the gained insights help creating a positive business impact?\n",
        "Are there any insights that lead to negative growth? Justify with specific reason."
      ],
      "metadata": {
        "id": "Xn4bNo9zLsi8"
      }
    },
    {
      "cell_type": "markdown",
      "source": [
        "Yes, Netflix can align new content with trending themes to boost engagement. No negative growth found—just valuable data for content strategy."
      ],
      "metadata": {
        "id": "XnlLalMbLvVf"
      }
    },
    {
      "cell_type": "markdown",
      "source": [
        "#### Chart - 6\n",
        "Top 10 most common genres/categories"
      ],
      "metadata": {
        "id": "-XnH5T-FL1XG"
      }
    },
    {
      "cell_type": "code",
      "source": [
        "# Top 10 most common genres/categories on Netflix\n",
        "from collections import Counter\n",
        "\n",
        "# Split and count genres\n",
        "genre_list = df['listed_in'].dropna().str.split(', ')\n",
        "flat_genres = [genre for sublist in genre_list for genre in sublist]\n",
        "top_genres = Counter(flat_genres).most_common(10)\n",
        "genres, counts = zip(*top_genres)\n",
        "\n",
        "# Plotting\n",
        "plt.figure(figsize=(10,5))\n",
        "sns.barplot(x=list(counts), y=list(genres), color=sns.color_palette('plasma', n_colors=1)[0])\n",
        "plt.title('Top 10 Genres on Netflix')\n",
        "plt.xlabel('Count')\n",
        "plt.ylabel('Genre')\n",
        "plt.show()"
      ],
      "metadata": {
        "id": "dkTK2phkL6ea"
      },
      "execution_count": null,
      "outputs": []
    },
    {
      "cell_type": "markdown",
      "source": [
        "##### 1. Why did you pick the specific chart?"
      ],
      "metadata": {
        "id": "JK2H7n-6M3Ak"
      }
    },
    {
      "cell_type": "markdown",
      "source": [
        "A horizontal bar chart is perfect for showcasing frequency distribution of categorical data like genres. It provides clarity even when category names are long."
      ],
      "metadata": {
        "id": "mXeNHkcLMzoo"
      }
    },
    {
      "cell_type": "markdown",
      "source": [
        "##### 2. What is/are the insight(s) found from the chart?"
      ],
      "metadata": {
        "id": "yyYBOcj6M5Rd"
      }
    },
    {
      "cell_type": "markdown",
      "source": [
        "The most common genres on Netflix include International Movies,Dramas, and Comedies. These dominate the graph, suggesting user demand is high in these categories."
      ],
      "metadata": {
        "id": "Y0RxL87QM703"
      }
    },
    {
      "cell_type": "markdown",
      "source": [
        "##### 3. Will the gained insights help creating a positive business impact?\n",
        "Are there any insights that lead to negative growth? Justify with specific reason."
      ],
      "metadata": {
        "id": "xc6nP-cWM-eR"
      }
    },
    {
      "cell_type": "markdown",
      "source": [
        "Yes. Understanding genre preferences can help Netflix personalize recommendations and focus future content investments. However, over-representation in certain genres (e.g., dramas) could lead to audience fatigue and underrepresentation of niche interests, which might limit audience diversity."
      ],
      "metadata": {
        "id": "IpOX03mANBPB"
      }
    },
    {
      "cell_type": "markdown",
      "source": [
        "#### Chart - 7\n",
        "Rating Distribution"
      ],
      "metadata": {
        "id": "rKm6VGuFNmID"
      }
    },
    {
      "cell_type": "code",
      "source": [
        "# Chart - 7 visualization code\n",
        "\n",
        "# Univariate analysis of the 'rating' variable\n",
        "rating_counts = df['rating'].value_counts().sort_index()\n",
        "\n",
        "# Plotting the distribution of 'rating'\n",
        "plt.figure(figsize=(12, 6))\n",
        "sns.barplot(x=rating_counts.index, y=rating_counts.values, palette='magma')\n",
        "plt.title('Distribution of Ratings')\n",
        "plt.xlabel('Rating')\n",
        "plt.ylabel('Count')\n",
        "plt.xticks(rotation=45)\n",
        "plt.show()"
      ],
      "metadata": {
        "id": "2yECsobbNSa3"
      },
      "execution_count": null,
      "outputs": []
    },
    {
      "cell_type": "markdown",
      "source": [
        "##### 1. Why did you pick the specific chart?"
      ],
      "metadata": {
        "id": "h4632KzPb4gj"
      }
    },
    {
      "cell_type": "markdown",
      "source": [
        "Bar charts are best for comparing categorical variables like content ratings ."
      ],
      "metadata": {
        "id": "NjcSZLI5b6i9"
      }
    },
    {
      "cell_type": "markdown",
      "source": [
        "##### 2. What is/are the insight(s) found from the chart?"
      ],
      "metadata": {
        "id": "PL-O_Qfeb8xE"
      }
    },
    {
      "cell_type": "markdown",
      "source": [
        "TV-MA and TV-14 dominate, showing focus on mature and teen audiences; kids' content like G and TV-Y7-FV is underrepresented.\n"
      ],
      "metadata": {
        "id": "na1rvy_Wb-wf"
      }
    },
    {
      "cell_type": "markdown",
      "source": [
        "##### 3. Will the gained insights help creating a positive business impact?\n",
        "Are there any insights that lead to negative growth? Justify with specific reason."
      ],
      "metadata": {
        "id": "lG-e4ozkcDan"
      }
    },
    {
      "cell_type": "markdown",
      "source": [
        "Yes, It Highlights Netflix's focus on adult and teen demographics is useful for targeting ads and promotions. But there must be a loss in children/family content—expanding this could open up a new market segment.\n",
        "\n"
      ],
      "metadata": {
        "id": "x-FB2FsjcETV"
      }
    },
    {
      "cell_type": "markdown",
      "source": [
        "#### Chart - 8\n",
        "Top Genres by Country and Type"
      ],
      "metadata": {
        "id": "jhTpmsAdcGRf"
      }
    },
    {
      "cell_type": "code",
      "source": [
        "# Top Genres by Country and Type\n",
        "\n",
        "# Step 1: Prepare Data\n",
        "df_genre = df.dropna(subset=['listed_in', 'country', 'type']).copy()     # Remove rows with missing genre, country, or type\n",
        "df_genre['genre'] = df_genre['listed_in'].str.split(', ')                # Split genres into list\n",
        "df_genre['country'] = df_genre['country'].str.split(', ')                # Split countries into list\n",
        "df_genre = df_genre.explode('genre').explode('country')                 # Expand each genre and country into separate rows\n",
        "\n",
        "# Step 2: Filter Top 5 Countries and Genres\n",
        "top_countries = df_genre['country'].value_counts().head(5).index         # Identify top 5 most frequent countries\n",
        "top_genres = df_genre['genre'].value_counts().head(5).index              # Identify top 5 most frequent genres\n",
        "\n",
        "# Keep only rows where both country and genre are in the top 5\n",
        "filtered = df_genre[\n",
        "    (df_genre['country'].isin(top_countries)) &\n",
        "    (df_genre['genre'].isin(top_genres))\n",
        "]\n",
        "\n",
        "# Step 3: Pivot Table Creation\n",
        "pivot_table = pd.pivot_table(\n",
        "    filtered,\n",
        "    index='genre',                            # Genres as rows\n",
        "    columns=['country', 'type'],              # Country & content type as columns\n",
        "    values='title',                           # Count based on title\n",
        "    aggfunc='count',                          # Aggregate by count\n",
        "    fill_value=0                              # Fill missing values with 0\n",
        ")\n",
        "\n",
        "# Step 4: Heatmap Visualization\n",
        "plt.figure(figsize=(16, 8))\n",
        "sns.heatmap(\n",
        "    pivot_table,\n",
        "    annot=True,                               # Show counts in each cell\n",
        "    fmt='d',                                  # Format annotations as integers\n",
        "    cmap='plasma',                            # Use 'plasma' color palette\n",
        "    linewidths=0.5,                           # Line width between cells\n",
        "    linecolor='gray',                         # Line color\n",
        "    cbar_kws={'label': 'Count'}              # Add color bar label\n",
        ")\n",
        "\n",
        "# Final formatting\n",
        "plt.title('Top 5 Genres by Country and Type', fontsize=16)\n",
        "plt.xlabel('Country & Content Type', fontsize=12)\n",
        "plt.ylabel('Genre', fontsize=12)\n",
        "plt.xticks(rotation=45, ha='right')           # Rotate x-axis labels for readability\n",
        "plt.yticks(rotation=0)                        # Keep y-axis labels horizontal\n",
        "plt.tight_layout()\n",
        "plt.show()\n"
      ],
      "metadata": {
        "id": "NX7292HfcTL6"
      },
      "execution_count": null,
      "outputs": []
    },
    {
      "cell_type": "markdown",
      "source": [
        "##### 1. Why did you pick the specific chart?"
      ],
      "metadata": {
        "id": "pBu_1NaedMMd"
      }
    },
    {
      "cell_type": "markdown",
      "source": [
        "A heatmap effectively compares multiple variables—genre, country, and content type—in a compact, visual format, highlighting patterns via color intensity."
      ],
      "metadata": {
        "id": "pmT4E_F4dVWT"
      }
    },
    {
      "cell_type": "markdown",
      "source": [
        "##### 2. What is/are the insight(s) found from the chart?"
      ],
      "metadata": {
        "id": "byrb6MKKdXod"
      }
    },
    {
      "cell_type": "markdown",
      "source": [
        "- The US dominates content across most top genres and types.\n",
        "- Genre preferences vary by country (e.g., UK's strength in\n",
        "International TV Shows).\n",
        "- India heavily focuses on International Movies.\n",
        "- Canada and France show lower output in these specific popular genres.\n",
        "- Movies generally have higher representation in these top genres than TV shows within countries."
      ],
      "metadata": {
        "id": "vN4uhQgqdaNt"
      }
    },
    {
      "cell_type": "markdown",
      "source": [
        "##### 3. Will the gained insights help creating a positive business impact?\n",
        "Are there any insights that lead to negative growth? Justify with specific reason."
      ],
      "metadata": {
        "id": "h0IIaCFVdcnF"
      }
    },
    {
      "cell_type": "markdown",
      "source": [
        "Yes, Insights helps Netflix tailor genre-based content strategy per country and type and Supports localized marketing and production. However, If over-relying on a few genres, may cause viewer fatigue and risks lack of diversity"
      ],
      "metadata": {
        "id": "Op3RvqIMdfU3"
      }
    },
    {
      "cell_type": "markdown",
      "source": [
        "#### Chart - 9\n",
        "Number of Releases per year"
      ],
      "metadata": {
        "id": "UImkBUsqdtth"
      }
    },
    {
      "cell_type": "code",
      "source": [
        "# Count the number of titles per release year\n",
        "release_counts = df['release_year'].value_counts().sort_index()\n",
        "\n",
        "# Plot the line chart\n",
        "plt.figure(figsize=(12, 6))\n",
        "sns.lineplot(x=release_counts.index, y=release_counts.values, marker='o', color='teal')\n",
        "plt.title('Distribution of Release Year')\n",
        "plt.xlabel('Release Year')\n",
        "plt.ylabel('Number of Titles Released')\n",
        "plt.grid(True)\n",
        "plt.show()\n"
      ],
      "metadata": {
        "id": "jXwFOGYVd1SO"
      },
      "execution_count": null,
      "outputs": []
    },
    {
      "cell_type": "markdown",
      "source": [
        "##### 1. Why did you pick the specific chart?"
      ],
      "metadata": {
        "id": "fm4FKuVxiseN"
      }
    },
    {
      "cell_type": "markdown",
      "source": [
        "A line chart is ideal for showing trends over time. It clearly illustrates the rise or fall in content production across years."
      ],
      "metadata": {
        "id": "9VSt6N1KitGY"
      }
    },
    {
      "cell_type": "markdown",
      "source": [
        "##### 2. What is/are the insight(s) found from the chart?"
      ],
      "metadata": {
        "id": "guRFmiN9ivaa"
      }
    },
    {
      "cell_type": "markdown",
      "source": [
        "Netflix significantly drive up content releases from 2015 onwards, peaking around 2018–2019. There’s a noticeable dip post-2019, possibly due to the COVID-19 pandemic’s impact on production."
      ],
      "metadata": {
        "id": "9ASt1wLPixuY"
      }
    },
    {
      "cell_type": "markdown",
      "source": [
        "##### 3. Will the gained insights help creating a positive business impact?\n",
        "Are there any insights that lead to negative growth? Justify with specific reason."
      ],
      "metadata": {
        "id": "KqZctmR8i76U"
      }
    },
    {
      "cell_type": "markdown",
      "source": [
        "Yes. This insight helps Netflix  understand which countries produce the most content. It can guide where to invest in future shows or movies. The drop in content after 2019 might be due to global disruptions, showing that Netflix should have backup plans to keep viewers engaged when production slows down."
      ],
      "metadata": {
        "id": "Yce4LbPujAOR"
      }
    },
    {
      "cell_type": "markdown",
      "source": [],
      "metadata": {
        "id": "bQuB_k-9jOtl"
      }
    },
    {
      "cell_type": "markdown",
      "source": [
        "#### Chart - 10\n",
        "Content type over time\n"
      ],
      "metadata": {
        "id": "qSC5PqwLjUw9"
      }
    },
    {
      "cell_type": "code",
      "source": [
        "# Content Type over Time\n",
        "\n",
        "# 1. Group data by release year and content type (Movie or TV Show), count the number of titles\n",
        "release_counts = df.groupby(['release_year', 'type']).size().unstack().fillna(0)\n",
        "\n",
        "# 2. Plot the counts as a line chart to show trends over time\n",
        "release_counts.plot(kind='line', figsize=(12, 6), linewidth=2)\n",
        "\n",
        "# 3. Add title and axis labels\n",
        "plt.title('Content Type over Time')         # Chart title\n",
        "plt.xlabel('Year')                          # X-axis label\n",
        "plt.ylabel('Count')                         # Y-axis label\n",
        "\n",
        "# 4. Add legend to indicate content type\n",
        "plt.legend(title='Type')\n",
        "\n",
        "# 5. Adjust layout and display the plot\n",
        "plt.tight_layout()\n",
        "plt.show()\n"
      ],
      "metadata": {
        "id": "sBiGJJvtjbRS"
      },
      "execution_count": null,
      "outputs": []
    },
    {
      "cell_type": "markdown",
      "source": [
        "##### 1. Why did you pick the specific chart?"
      ],
      "metadata": {
        "id": "15wrD7doklgM"
      }
    },
    {
      "cell_type": "markdown",
      "source": [
        "A line chart is perfect to visualize how content production trends have changed over years for both Movies and TV Shows."
      ],
      "metadata": {
        "id": "kUrQ4XqBkmVg"
      }
    },
    {
      "cell_type": "markdown",
      "source": [
        "##### 2. What is/are the insight(s) found from the chart?"
      ],
      "metadata": {
        "id": "UAkLmFIokrqK"
      }
    },
    {
      "cell_type": "markdown",
      "source": [
        "- There is the Sharp rise in content after 2015, especially in TV Shows.\n",
        "\n",
        "- Movies dominated earlier years and TV Shows have increase in recent years."
      ],
      "metadata": {
        "id": "Qf_vmccHkshv"
      }
    },
    {
      "cell_type": "markdown",
      "source": [
        "##### 3. Will the gained insights help creating a positive business impact?\n",
        "Are there any insights that lead to negative growth? Justify with specific reason."
      ],
      "metadata": {
        "id": "lpLF7TA-kxcf"
      }
    },
    {
      "cell_type": "markdown",
      "source": [
        "The insights Shows rising demand for TV Shows which suggests that Netflix can invest more in series. And Decline in Movie growth may indicate market saturation or shifting preferences."
      ],
      "metadata": {
        "id": "dFSFX_91kyGJ"
      }
    },
    {
      "cell_type": "markdown",
      "source": [
        "#### Chart - 11\n",
        "Content Added per Month"
      ],
      "metadata": {
        "id": "cW00gkzDvd79"
      }
    },
    {
      "cell_type": "code",
      "source": [
        "# Content added to Netflix by month\n",
        "\n",
        "# 1. Count how many titles were added in each month (assumes 'month_added' is already extracted)\n",
        "monthly_counts = df['month_added'].value_counts().sort_index()\n",
        "\n",
        "# 2. Create a bar plot of monthly content additions\n",
        "plt.figure(figsize=(10, 5))  # Set plot size\n",
        "sns.barplot(x=monthly_counts.index, y=monthly_counts.values, palette='coolwarm')  # Bar plot with coolwarm color palette\n",
        "\n",
        "# 3. Add title and axis labels\n",
        "plt.title('Content Added to Netflix by Month')\n",
        "plt.xlabel('Month')\n",
        "plt.ylabel('Count')\n",
        "\n",
        "# 4. Replace numeric x-axis ticks with month abbreviations\n",
        "plt.xticks(\n",
        "    ticks=range(0, 12),\n",
        "    labels=['Jan', 'Feb', 'Mar', 'Apr', 'May', 'Jun',\n",
        "            'Jul', 'Aug', 'Sep', 'Oct', 'Nov', 'Dec']\n",
        ")\n",
        "\n",
        "# 5. Add horizontal gridlines for easier readability\n",
        "plt.grid(axis='y')\n",
        "plt.show()\n"
      ],
      "metadata": {
        "id": "cEYqQdKKvhrJ"
      },
      "execution_count": null,
      "outputs": []
    },
    {
      "cell_type": "markdown",
      "source": [
        "##### 1. Why did you pick the specific chart?"
      ],
      "metadata": {
        "id": "BLQKTYwjuRYB"
      }
    },
    {
      "cell_type": "markdown",
      "source": [
        "I chose a bar chart because it clearly shows monthly differences in content additions and highlights seasonal trends in a simple, visual way.\n"
      ],
      "metadata": {
        "id": "pR5_yo0kuToT"
      }
    },
    {
      "cell_type": "markdown",
      "source": [
        "##### 2. What is/are the insight(s) found from the chart?"
      ],
      "metadata": {
        "id": "aWMmJi3ouVnO"
      }
    },
    {
      "cell_type": "markdown",
      "source": [
        "The chart shows that the most content is added in **May**, **March**, and **November**, while **April** and **July** have the lowest additions—suggesting a seasonal pattern in Netflix’s content strategy.\n"
      ],
      "metadata": {
        "id": "2BpFTlOKuXs2"
      }
    },
    {
      "cell_type": "markdown",
      "source": [
        "##### 3. Will the gained insights help creating a positive business impact?\n",
        "Are there any insights that lead to negative growth? Justify with specific reason."
      ],
      "metadata": {
        "id": "2f3wwERSubQy"
      }
    },
    {
      "cell_type": "markdown",
      "source": [
        "Yes, the insights help boost business by timing content drops during high-demand months (e.g., May, March, Nov). Low content months (e.g., April, July) reveal gaps that can be used to improve retention. No direct negative growth, but underuse of certain months could risk losing user interest.\n"
      ],
      "metadata": {
        "id": "OZqvFGNUub9N"
      }
    },
    {
      "cell_type": "markdown",
      "source": [
        "#### Chart - 12\n",
        "Yearly Content Additions by Type and Rating"
      ],
      "metadata": {
        "id": "9o1UR7T52zli"
      }
    },
    {
      "cell_type": "code",
      "source": [
        "# 1. Remove rows missing 'year_added', 'type', or 'rating' to ensure clean analysis\n",
        "df_filtered = df.dropna(subset=['year_added', 'type', 'rating'])\n",
        "\n",
        "# 2. Select top 5 most frequent content ratings\n",
        "top_ratings = df_filtered['rating'].value_counts().head(5).index\n",
        "\n",
        "# 3. Filter data to include only those top 5 ratings\n",
        "df_filtered = df_filtered[df_filtered['rating'].isin(top_ratings)]\n",
        "\n",
        "# Group and pivot data\n",
        "\n",
        "# 4. Group data by year, type (Movie/TV Show), and rating; count occurrences\n",
        "pivot = df_filtered.groupby(['year_added', 'type', 'rating']).size() \\\n",
        "    .unstack(['type', 'rating'], fill_value=0) \\\n",
        "    .sort_index()\n",
        "\n",
        "# 5. Convert index to integers for proper plotting\n",
        "pivot.index = pivot.index.astype(int)\n",
        "\n",
        "# Visualization\n",
        "\n",
        "# 6. Set seaborn styling for a cleaner look\n",
        "sns.set_style(\"whitegrid\")\n",
        "plt.figure(figsize=(16, 8))\n",
        "\n",
        "# 7. Create a distinct color for each stacked bar segment\n",
        "colors = sns.color_palette(\"Set2\", n_colors=pivot.shape[1])\n",
        "\n",
        "# 8. Plot the data as a stacked bar chart\n",
        "pivot.plot(\n",
        "    kind='bar',\n",
        "    stacked=True,\n",
        "    color=colors,\n",
        "    width=0.8,\n",
        "    edgecolor='black',\n",
        "    linewidth=0.4\n",
        ")\n",
        "\n",
        "# Final touches for better readability\n",
        "plt.title('📈 Yearly Netflix Content Additions by Type & Rating', fontsize=16, weight='bold')\n",
        "plt.xlabel('Year', fontsize=12)\n",
        "plt.ylabel('Number of Titles', fontsize=12)\n",
        "plt.xticks(rotation=45)\n",
        "plt.legend(title='Type & Rating', bbox_to_anchor=(1.02, 1), loc='upper left')  # Move legend outside\n",
        "plt.tight_layout()\n",
        "plt.grid(axis='y', linestyle='--', alpha=0.7)  # Add horizontal grid lines\n",
        "plt.show()\n"
      ],
      "metadata": {
        "id": "iIfIME8V24KU"
      },
      "execution_count": null,
      "outputs": []
    },
    {
      "cell_type": "markdown",
      "source": [
        "##### 1. Why did you pick the specific chart?"
      ],
      "metadata": {
        "id": "Z1O5OF5W3eeU"
      }
    },
    {
      "cell_type": "markdown",
      "source": [
        "A stacked bar chart allows clear visualization of how content additions are distributed by rating and type over the years, showing both volume and composition changes."
      ],
      "metadata": {
        "id": "RKzQL6xH3gaM"
      }
    },
    {
      "cell_type": "markdown",
      "source": [
        "##### 2. What is/are the insight(s) found from the chart?"
      ],
      "metadata": {
        "id": "G_zu6bXs3hIp"
      }
    },
    {
      "cell_type": "markdown",
      "source": [
        "- Significant growth post-2015, peak in 2019-2020, decline in 2021.\n",
        "- Mature ratings (R, TV-MA, TV-14) dominate additions for both types,\n",
        "especially in peak years.\n",
        "- Movie additions generally higher than TV shows.\n",
        "- 2021 shows a drop across most categories.\n",
        "- Early years had very low additions.\n"
      ],
      "metadata": {
        "id": "FlqN6jNv3jeC"
      }
    },
    {
      "cell_type": "markdown",
      "source": [
        "##### 3. Will the gained insights help creating a positive business impact?\n",
        "Are there any insights that lead to negative growth? Justify with specific reason."
      ],
      "metadata": {
        "id": "MBjE0Qg73mGu"
      }
    },
    {
      "cell_type": "markdown",
      "source": [
        " Yes, Insights shows investment in mature content, movie-heavy strategy, and peak release periods. Decline in 2021 suggests potential production issues which needs to be investigated.\n",
        " Over-emphasis on mature content might limit audience reach."
      ],
      "metadata": {
        "id": "_hex6nd13pGo"
      }
    },
    {
      "cell_type": "markdown",
      "source": [
        "### Clustering Similar Content Using Text Features"
      ],
      "metadata": {
        "id": "AUVYuXFfzffQ"
      }
    },
    {
      "cell_type": "code",
      "source": [
        "# Fill missing descriptions\n",
        "df['description'] = df['description'].fillna('')\n",
        "\n",
        "# Vectorize text using TF-IDF\n",
        "tfidf = TfidfVectorizer(stop_words='english', max_features=5000)\n",
        "tfidf_matrix = tfidf.fit_transform(df['description'])\n",
        "\n",
        "# Use KMeans for clustering\n",
        "num_clusters = 5\n",
        "kmeans = KMeans(n_clusters=num_clusters, random_state=42)\n",
        "df['cluster'] = kmeans.fit_predict(tfidf_matrix)\n",
        "\n",
        "# View sample from each cluster\n",
        "for i in range(num_clusters):\n",
        "    print(f'\\nCluster {i}:')\n",
        "    print(df[df['cluster'] == i][['title', 'description']].head(3))\n"
      ],
      "metadata": {
        "id": "kix2PYMmzfLl"
      },
      "execution_count": null,
      "outputs": []
    },
    {
      "cell_type": "markdown",
      "source": [
        "### Chart-13\n",
        "Pair Plot visualization"
      ],
      "metadata": {
        "id": "fd0X1AlX2dcm"
      }
    },
    {
      "cell_type": "code",
      "source": [
        "# Pair Plot visualization\n",
        "import scipy.stats as stats\n",
        "\n",
        "# 1. Drop rows with missing 'rating' or 'release_year' values to avoid errors in plotting and analysis\n",
        "df_clean = df.dropna(subset=['rating', 'release_year']).copy()\n",
        "\n",
        "# 2. Convert 'rating' column to category type for efficient grouping and plotting\n",
        "df_clean['rating'] = df_clean['rating'].astype('category')\n",
        "\n",
        "# 3. Create a pair plot for 'release_year' grouped by 'rating' to visually analyze distribution\n",
        "sns.set(style=\"whitegrid\")\n",
        "sns.pairplot(\n",
        "    df_clean,\n",
        "    hue='rating',                  # Color the data points by 'rating'\n",
        "    vars=['release_year'],        # Only consider 'release_year' for visualization\n",
        "    palette='magma',              # Use magma color palette\n",
        "    plot_kws={'alpha': 0.7}       # Set transparency for better readability\n",
        ")\n",
        "plt.suptitle('Pair Plot: Rating vs. Release Year', y=1.02, fontsize=14)  # Add a title to the plot\n",
        "plt.show()\n",
        "\n",
        "# 4. Calculate group-wise statistics (mean, std deviation, count) of 'release_year' for each rating\n",
        "rating_stats = df_clean.groupby('rating')['release_year'].agg(['mean', 'std', 'count'])\n",
        "\n",
        "# 5. Perform one-way ANOVA test to check if mean release years differ significantly between rating groups\n",
        "anova_result = stats.f_oneway(\n",
        "    *(df_clean[df_clean['rating'] == rating]['release_year']\n",
        "      for rating in df_clean['rating'].unique())\n",
        ")\n",
        "\n",
        "# Display summary statistics and ANOVA result\n",
        "print(\"Rating-wise statistics:\\n\", rating_stats)\n",
        "print(\"\\nANOVA Test Result:\\nF-statistic:\", round(anova_result.statistic, 3),\n",
        "      \"| p-value:\", round(anova_result.pvalue, 4))\n"
      ],
      "metadata": {
        "id": "sPtptLHfpJSO"
      },
      "execution_count": null,
      "outputs": []
    },
    {
      "cell_type": "markdown",
      "source": [
        "##### 1. Why did you pick the specific chart?"
      ],
      "metadata": {
        "id": "b9QzjC7ap1wf"
      }
    },
    {
      "cell_type": "markdown",
      "source": [
        "This approach is suitable because:\n",
        "\n",
        "It helps uncover temporal trends in content production. We can compare how each country's content contribution to Netflix has evolved over time.\n",
        "\n"
      ],
      "metadata": {
        "id": "EPAgUfqIqBGU"
      }
    },
    {
      "cell_type": "markdown",
      "source": [
        "##### 2. What is/are the insight(s) found from the chart?"
      ],
      "metadata": {
        "id": "z0AMGYPnqcfa"
      }
    },
    {
      "cell_type": "markdown",
      "source": [
        "United States consistently dominates content releases across all years, with a peak around 2018.\n",
        "\n",
        "India’s contributions grew significantly after 2015, reflecting Netflix’s regional expansion.\n",
        "\n",
        "South Korea and Japan started producing more content for Netflix in the late 2010s, mostly in the form of TV shows and anime.\n",
        "\n",
        "Some countries (e.g., UK, Canada) show a steady presence across years, often co-producing English-language content.\n",
        "\n"
      ],
      "metadata": {
        "id": "rOx3cVS8qfoZ"
      }
    },
    {
      "cell_type": "markdown",
      "source": [
        "3. Will the gained insights help creating a positive business impact\n",
        "\n",
        "Yes, the insights will help Netflix make smarter decisions on where to invest, what content to produce, and which new markets to target for future growth. This can lead to better user engagement and stronger global presence."
      ],
      "metadata": {
        "id": "Oq7jcz1Cqi7V"
      }
    },
    {
      "cell_type": "markdown",
      "source": [
        "## **5. Solution to Business Objective**"
      ],
      "metadata": {
        "id": "JcMwzZxoAimU"
      }
    },
    {
      "cell_type": "markdown",
      "source": [
        "#### What do you suggest the client to achieve Business Objective ?\n",
        "Explain Briefly."
      ],
      "metadata": {
        "id": "8G2x9gOozGDZ"
      }
    },
    {
      "cell_type": "markdown",
      "source": [
        "### **Solution to Business Objective**   \n",
        "\n",
        "1. **Prioritize Top Ratings**\n",
        "   Focus more on high-performing content ratings like **TV-MA** and **TV-14**, as they are the most popular among users.\n",
        "\n",
        "2. **Balance Content Types**\n",
        "   Maintain a mix of **family-friendly** and **mature** content to keep a wide range of viewers engaged.\n",
        "\n",
        "3. **Grow in Emerging Markets**\n",
        "   Increase **TV show content** in emerging regions (like India or Southeast Asia) and offer it in **local languages**.\n",
        "\n",
        "4. **Localize Content Strategy**\n",
        "   Create content based on what viewers in each country prefer. Different regions have different tastes—**one-size-fits-all won't work**.\n",
        "\n",
        "5. **Promote Popular Genres**\n",
        "   Invest more in **International TV Shows, Dramas, and Comedies**, as these are watched the most.\n",
        "\n",
        "6. **Add Niche Content**\n",
        "   Include more **unique or lesser-known genres** to attract users who are currently underserved.\n",
        "\n",
        "7. **Partner with Strong Regions**\n",
        "   Countries like the **US, India, and UK** lead in content volume. Keep collaborating with top production houses from these areas.\n",
        "\n",
        "8. **Use Recognizable Talent**\n",
        "   Viewers love familiar faces like **Anupam Kher, Shah Rukh Khan, or David Attenborough**. Prioritize them in future projects.\n",
        "\n",
        "9. **Improve Data Quality**\n",
        "    Ensure complete information for all titles (like **director, cast, country**) to boost **search accuracy and recommendations**.\n",
        "\n",
        "10. **Time Your Releases Smartly**\n",
        "    Identify **peak months or quarters** for different regions and plan content drops and marketing campaigns around them.\n",
        "\n"
      ],
      "metadata": {
        "id": "pASKb0qOza21"
      }
    },
    {
      "cell_type": "markdown",
      "source": [
        "# **Conclusion**"
      ],
      "metadata": {
        "id": "gCX9965dhzqZ"
      }
    },
    {
      "cell_type": "markdown",
      "source": [
        "The analysis of Netflix content reveals key trends in viewer preferences and platform growth. Most titles have been added after 2015, with a noticeable rise in **TV shows** over time. The **United States** remains the top content producer, followed by **India** and the **UK**. Genres like **Drama**, **Comedy**, and **International TV Shows** are consistently popular across major countries.\n",
        "\n",
        "Content rated **TV-MA** and **TV-14** dominates, indicating a strong preference for mature content. However, to attract a broader audience, Netflix should also invest in more **family-friendly** and **region-specific** programming.\n",
        "\n",
        "This analysis offers valuable insights into what users enjoy, helping Netflix make **data-driven decisions** to boost engagement, enhance content strategy, and grow its presence in both established and emerging markets.\n",
        "\n"
      ],
      "metadata": {
        "id": "Fjb1IsQkh3yE"
      }
    },
    {
      "cell_type": "markdown",
      "source": [
        "### ***Hurrah! You have successfully completed your EDA Capstone Project !!!***"
      ],
      "metadata": {
        "id": "gIfDvo9L0UH2"
      }
    },
    {
      "cell_type": "code",
      "source": [],
      "metadata": {
        "id": "dYX880etpL0x"
      },
      "execution_count": null,
      "outputs": []
    },
    {
      "cell_type": "code",
      "source": [],
      "metadata": {
        "id": "-6Vl263upPVI"
      },
      "execution_count": null,
      "outputs": []
    }
  ]
}